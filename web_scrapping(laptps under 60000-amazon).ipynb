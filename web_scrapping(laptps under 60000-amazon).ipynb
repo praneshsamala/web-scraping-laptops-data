{
 "cells": [
  {
   "cell_type": "code",
   "execution_count": 1,
   "id": "ce2a2e51",
   "metadata": {},
   "outputs": [],
   "source": [
    "import pandas as pd\n",
    "from bs4 import BeautifulSoup\n",
    "import requests"
   ]
  },
  {
   "cell_type": "code",
   "execution_count": 2,
   "id": "ffabc425",
   "metadata": {},
   "outputs": [],
   "source": [
    "url=\"https://www.amazon.in/s?k=laptops+under+60000&page=2&qid=1673482630&sprefix=laptops+%2Caps%2C227&ref=sr_pg_1\""
   ]
  },
  {
   "cell_type": "code",
   "execution_count": 3,
   "id": "75fed252",
   "metadata": {},
   "outputs": [],
   "source": [
    "headers={\"User-Agent\":\"Mozilla/5.0 (Macintosh; Intel Mac OS X 10_14_5)AppleWebKit/605.1.15 (KHTML, like Gecko)Version/12.1.1 Safari/605.1.15\"}"
   ]
  },
  {
   "cell_type": "code",
   "execution_count": 4,
   "id": "549f936e",
   "metadata": {},
   "outputs": [],
   "source": [
    "res=requests.get(url,headers=headers)"
   ]
  },
  {
   "cell_type": "code",
   "execution_count": 5,
   "id": "699bf06c",
   "metadata": {},
   "outputs": [
    {
     "data": {
      "text/plain": [
       "<Response [200]>"
      ]
     },
     "execution_count": 5,
     "metadata": {},
     "output_type": "execute_result"
    }
   ],
   "source": [
    "res"
   ]
  },
  {
   "cell_type": "code",
   "execution_count": 6,
   "id": "98707591",
   "metadata": {},
   "outputs": [],
   "source": [
    "bsoup=BeautifulSoup(res.content,\"html.parser\")"
   ]
  },
  {
   "cell_type": "code",
   "execution_count": 7,
   "id": "2ea0c9c0",
   "metadata": {},
   "outputs": [],
   "source": [
    "soup=BeautifulSoup(res.text,\"lxml\")"
   ]
  },
  {
   "cell_type": "code",
   "execution_count": 8,
   "id": "7bd69c50",
   "metadata": {},
   "outputs": [],
   "source": [
    "o=\"https://www.amazon.in\""
   ]
  },
  {
   "cell_type": "code",
   "execution_count": 9,
   "id": "9dba235d",
   "metadata": {},
   "outputs": [],
   "source": [
    "items=soup.find_all(\"div\",{\"class\":[\"s-card-container\"]})\n"
   ]
  },
  {
   "cell_type": "code",
   "execution_count": 10,
   "id": "cc5eef9d",
   "metadata": {},
   "outputs": [],
   "source": [
    "dem=soup.find_all(\"div\",{\"class\":[\"sg-col\"]})"
   ]
  },
  {
   "cell_type": "code",
   "execution_count": 11,
   "id": "022c9141",
   "metadata": {},
   "outputs": [],
   "source": [
    "laptop_name=[]"
   ]
  },
  {
   "cell_type": "code",
   "execution_count": 12,
   "id": "e93c8a9e",
   "metadata": {},
   "outputs": [],
   "source": [
    "for i in items:\n",
    "    laptop_name.append(i.find(\"h2\").text)"
   ]
  },
  {
   "cell_type": "code",
   "execution_count": 13,
   "id": "f1a55cb1",
   "metadata": {},
   "outputs": [
    {
     "data": {
      "text/plain": [
       "22"
      ]
     },
     "execution_count": 13,
     "metadata": {},
     "output_type": "execute_result"
    }
   ],
   "source": [
    "len(laptop_name)"
   ]
  },
  {
   "cell_type": "code",
   "execution_count": 14,
   "id": "e6b9b602",
   "metadata": {},
   "outputs": [],
   "source": [
    "rating=[]"
   ]
  },
  {
   "cell_type": "code",
   "execution_count": 15,
   "id": "1a4990e6",
   "metadata": {},
   "outputs": [],
   "source": [
    "for i in items:\n",
    "    rating.append(i.find(\"i\",{\"class\":\"a-icon\"}).text)"
   ]
  },
  {
   "cell_type": "code",
   "execution_count": 16,
   "id": "2a995210",
   "metadata": {},
   "outputs": [],
   "source": [
    "price=[]"
   ]
  },
  {
   "cell_type": "code",
   "execution_count": 17,
   "id": "8aa16690",
   "metadata": {},
   "outputs": [],
   "source": [
    "for i in items:\n",
    "    price.append(i.find(\"span\",{\"class\":\"a-price-whole\"}).text)"
   ]
  },
  {
   "cell_type": "code",
   "execution_count": 18,
   "id": "870d9c09",
   "metadata": {},
   "outputs": [],
   "source": [
    "link=[]"
   ]
  },
  {
   "cell_type": "code",
   "execution_count": 19,
   "id": "7bf2b9fa",
   "metadata": {},
   "outputs": [],
   "source": [
    "for i in items:\n",
    "    link.append(o+i.find(\"a\")[\"href\"])"
   ]
  },
  {
   "cell_type": "code",
   "execution_count": 21,
   "id": "d210b0f3",
   "metadata": {},
   "outputs": [
    {
     "data": {
      "text/plain": [
       "['56,999',\n",
       " '55,990',\n",
       " '54,008',\n",
       " '55,017',\n",
       " '34,700',\n",
       " '47,029',\n",
       " '35,490',\n",
       " '42,490',\n",
       " '21,527',\n",
       " '49,614',\n",
       " '59,610',\n",
       " '66,490',\n",
       " '54,990',\n",
       " '21,880',\n",
       " '49,990',\n",
       " '46,018',\n",
       " '56,490',\n",
       " '59,499',\n",
       " '57,990',\n",
       " '58,490',\n",
       " '53,990',\n",
       " '58,900']"
      ]
     },
     "execution_count": 21,
     "metadata": {},
     "output_type": "execute_result"
    }
   ],
   "source": [
    "price"
   ]
  },
  {
   "cell_type": "code",
   "execution_count": 22,
   "id": "c9ff360f",
   "metadata": {},
   "outputs": [],
   "source": [
    "laptops={\"name\":laptop_name,\"price\":price,\"rating\":rating,\"links\":link}"
   ]
  },
  {
   "cell_type": "code",
   "execution_count": 23,
   "id": "d742a28b",
   "metadata": {},
   "outputs": [],
   "source": [
    "df=pd.DataFrame(laptops)\n"
   ]
  },
  {
   "cell_type": "code",
   "execution_count": 24,
   "id": "58cc72fe",
   "metadata": {},
   "outputs": [
    {
     "data": {
      "text/html": [
       "<div>\n",
       "<style scoped>\n",
       "    .dataframe tbody tr th:only-of-type {\n",
       "        vertical-align: middle;\n",
       "    }\n",
       "\n",
       "    .dataframe tbody tr th {\n",
       "        vertical-align: top;\n",
       "    }\n",
       "\n",
       "    .dataframe thead th {\n",
       "        text-align: right;\n",
       "    }\n",
       "</style>\n",
       "<table border=\"1\" class=\"dataframe\">\n",
       "  <thead>\n",
       "    <tr style=\"text-align: right;\">\n",
       "      <th></th>\n",
       "      <th>name</th>\n",
       "      <th>price</th>\n",
       "      <th>rating</th>\n",
       "      <th>links</th>\n",
       "    </tr>\n",
       "  </thead>\n",
       "  <tbody>\n",
       "    <tr>\n",
       "      <th>0</th>\n",
       "      <td>HP 15s, 12th Gen Intel Core i5 8GB RAM/512GB S...</td>\n",
       "      <td>56,999</td>\n",
       "      <td>4.2 out of 5 stars</td>\n",
       "      <td>https://www.amazon.in/sspa/click?ie=UTF8&amp;spc=M...</td>\n",
       "    </tr>\n",
       "    <tr>\n",
       "      <th>1</th>\n",
       "      <td>Acer Aspire 3 Intel Core i5 12th Generation (8...</td>\n",
       "      <td>55,990</td>\n",
       "      <td>3.5 out of 5 stars</td>\n",
       "      <td>https://www.amazon.in/sspa/click?ie=UTF8&amp;spc=M...</td>\n",
       "    </tr>\n",
       "    <tr>\n",
       "      <th>2</th>\n",
       "      <td>Lenovo IdeaPad Gaming 3 Intel Core i5 11th Gen...</td>\n",
       "      <td>54,008</td>\n",
       "      <td>4.1 out of 5 stars</td>\n",
       "      <td>https://www.amazon.in/Lenovo-IdeaPad-39-62cm-B...</td>\n",
       "    </tr>\n",
       "    <tr>\n",
       "      <th>3</th>\n",
       "      <td>Lenovo IdeaPad Slim 3 Intel Core i5 12th Gen 1...</td>\n",
       "      <td>55,017</td>\n",
       "      <td>4.1 out of 5 stars</td>\n",
       "      <td>https://www.amazon.in/Lenovo-IdeaPad-39-62cm-W...</td>\n",
       "    </tr>\n",
       "    <tr>\n",
       "      <th>4</th>\n",
       "      <td>Acer Extensa 15 Lightweight Laptop Intel Core ...</td>\n",
       "      <td>34,700</td>\n",
       "      <td>3.9 out of 5 stars</td>\n",
       "      <td>https://www.amazon.in/Acer-Extensa-Lightweight...</td>\n",
       "    </tr>\n",
       "    <tr>\n",
       "      <th>5</th>\n",
       "      <td>HP 14s, AMD Ryzen 5-5500U 14 inches(35cm) FHD,...</td>\n",
       "      <td>47,029</td>\n",
       "      <td>4.3 out of 5 stars</td>\n",
       "      <td>https://www.amazon.in/HP-Micro-Edge-Graphics-K...</td>\n",
       "    </tr>\n",
       "    <tr>\n",
       "      <th>6</th>\n",
       "      <td>Lenovo IdeaPad Slim 3 Intel Core i3 11th Gen 1...</td>\n",
       "      <td>35,490</td>\n",
       "      <td>4.1 out of 5 stars</td>\n",
       "      <td>https://www.amazon.in/Lenovo-IdeaPad-Warranty-...</td>\n",
       "    </tr>\n",
       "    <tr>\n",
       "      <th>7</th>\n",
       "      <td>ASUS VivoBook 14 (2021), Intel Core i5-1135G7 ...</td>\n",
       "      <td>42,490</td>\n",
       "      <td>3.7 out of 5 stars</td>\n",
       "      <td>https://www.amazon.in/X415EA-EB502WS-I5-1135G7...</td>\n",
       "    </tr>\n",
       "    <tr>\n",
       "      <th>8</th>\n",
       "      <td>Lenovo IdeaPad D330 Intel Celeron N4020 10.1\" ...</td>\n",
       "      <td>21,527</td>\n",
       "      <td>3.9 out of 5 stars</td>\n",
       "      <td>https://www.amazon.in/Lenovo-IdeaPad-Detachabl...</td>\n",
       "    </tr>\n",
       "    <tr>\n",
       "      <th>9</th>\n",
       "      <td>ASUS VivoBook 14 (2021), Intel Core i5-1135G7 ...</td>\n",
       "      <td>49,614</td>\n",
       "      <td>4.1 out of 5 stars</td>\n",
       "      <td>https://www.amazon.in/ASUS-VivoBook-i5-1135G7-...</td>\n",
       "    </tr>\n",
       "    <tr>\n",
       "      <th>10</th>\n",
       "      <td>HP 14s, 12th Gen Intel Core i5 16GB RAM/512GB ...</td>\n",
       "      <td>59,610</td>\n",
       "      <td>3.9 out of 5 stars</td>\n",
       "      <td>https://www.amazon.in/sspa/click?ie=UTF8&amp;spc=M...</td>\n",
       "    </tr>\n",
       "    <tr>\n",
       "      <th>11</th>\n",
       "      <td>HP Pavilion 14 12th Gen Intel Core i5 16GB SDR...</td>\n",
       "      <td>66,490</td>\n",
       "      <td>4.2 out of 5 stars</td>\n",
       "      <td>https://www.amazon.in/sspa/click?ie=UTF8&amp;spc=M...</td>\n",
       "    </tr>\n",
       "    <tr>\n",
       "      <th>12</th>\n",
       "      <td>HP Victus Gaming Latest AMD Ryzen 5 5600H Proc...</td>\n",
       "      <td>54,990</td>\n",
       "      <td>4.4 out of 5 stars</td>\n",
       "      <td>https://www.amazon.in/HP-RX5500M-Graphics-Flic...</td>\n",
       "    </tr>\n",
       "    <tr>\n",
       "      <th>13</th>\n",
       "      <td>Acer Aspire 3 AMD 3020e Dual core Processor (4...</td>\n",
       "      <td>21,880</td>\n",
       "      <td>3.1 out of 5 stars</td>\n",
       "      <td>https://www.amazon.in/Acer-Processor-Display-W...</td>\n",
       "    </tr>\n",
       "    <tr>\n",
       "      <th>14</th>\n",
       "      <td>HP 15s, Ryzen 5-5500U, 16GB RAM/512GB SSD 15.6...</td>\n",
       "      <td>49,990</td>\n",
       "      <td>4.4 out of 5 stars</td>\n",
       "      <td>https://www.amazon.in/HP-15-6-inches-Micro-Edg...</td>\n",
       "    </tr>\n",
       "    <tr>\n",
       "      <th>15</th>\n",
       "      <td>Lenovo Ideapad 3 AMD Ryzen 5 5500U 15.6\" (39.6...</td>\n",
       "      <td>46,018</td>\n",
       "      <td>4.2 out of 5 stars</td>\n",
       "      <td>https://www.amazon.in/Lenovo-Ideapad-Keyboard-...</td>\n",
       "    </tr>\n",
       "    <tr>\n",
       "      <th>16</th>\n",
       "      <td>Mi Notebook Pro QHD+ IPS Anti-Glare Display In...</td>\n",
       "      <td>56,490</td>\n",
       "      <td>4.3 out of 5 stars</td>\n",
       "      <td>https://www.amazon.in/Notebook-Display-i5-1130...</td>\n",
       "    </tr>\n",
       "    <tr>\n",
       "      <th>17</th>\n",
       "      <td>Mi NoteBook Ultra 3.2K Resolution Display Inte...</td>\n",
       "      <td>59,499</td>\n",
       "      <td>4.2 out of 5 stars</td>\n",
       "      <td>https://www.amazon.in/Notebook-Resolution-i5-1...</td>\n",
       "    </tr>\n",
       "    <tr>\n",
       "      <th>18</th>\n",
       "      <td>Mi Notebook Pro QHD+ IPS Anti-Glare Display In...</td>\n",
       "      <td>57,990</td>\n",
       "      <td>4.3 out of 5 stars</td>\n",
       "      <td>https://www.amazon.in/Notebook-Display-i5-1130...</td>\n",
       "    </tr>\n",
       "    <tr>\n",
       "      <th>19</th>\n",
       "      <td>ASUS TUF Gaming F15 (2021), 15.6\" (39.62 cms) ...</td>\n",
       "      <td>58,490</td>\n",
       "      <td>4.3 out of 5 stars</td>\n",
       "      <td>https://www.amazon.in/ASUS-i5-10300H-Graphics-...</td>\n",
       "    </tr>\n",
       "    <tr>\n",
       "      <th>20</th>\n",
       "      <td>Acer Aspire Intel Core i5 11th Gen - (16 GB/ 5...</td>\n",
       "      <td>53,990</td>\n",
       "      <td>4.1 out of 5 stars</td>\n",
       "      <td>https://www.amazon.in/sspa/click?ie=UTF8&amp;spc=M...</td>\n",
       "    </tr>\n",
       "    <tr>\n",
       "      <th>21</th>\n",
       "      <td>Dell Inspiron 15-inch Laptop | Windows 11 and ...</td>\n",
       "      <td>58,900</td>\n",
       "      <td>3.3 out of 5 stars</td>\n",
       "      <td>https://www.amazon.in/sspa/click?ie=UTF8&amp;spc=M...</td>\n",
       "    </tr>\n",
       "  </tbody>\n",
       "</table>\n",
       "</div>"
      ],
      "text/plain": [
       "                                                 name   price  \\\n",
       "0   HP 15s, 12th Gen Intel Core i5 8GB RAM/512GB S...  56,999   \n",
       "1   Acer Aspire 3 Intel Core i5 12th Generation (8...  55,990   \n",
       "2   Lenovo IdeaPad Gaming 3 Intel Core i5 11th Gen...  54,008   \n",
       "3   Lenovo IdeaPad Slim 3 Intel Core i5 12th Gen 1...  55,017   \n",
       "4   Acer Extensa 15 Lightweight Laptop Intel Core ...  34,700   \n",
       "5   HP 14s, AMD Ryzen 5-5500U 14 inches(35cm) FHD,...  47,029   \n",
       "6   Lenovo IdeaPad Slim 3 Intel Core i3 11th Gen 1...  35,490   \n",
       "7   ASUS VivoBook 14 (2021), Intel Core i5-1135G7 ...  42,490   \n",
       "8   Lenovo IdeaPad D330 Intel Celeron N4020 10.1\" ...  21,527   \n",
       "9   ASUS VivoBook 14 (2021), Intel Core i5-1135G7 ...  49,614   \n",
       "10  HP 14s, 12th Gen Intel Core i5 16GB RAM/512GB ...  59,610   \n",
       "11  HP Pavilion 14 12th Gen Intel Core i5 16GB SDR...  66,490   \n",
       "12  HP Victus Gaming Latest AMD Ryzen 5 5600H Proc...  54,990   \n",
       "13  Acer Aspire 3 AMD 3020e Dual core Processor (4...  21,880   \n",
       "14  HP 15s, Ryzen 5-5500U, 16GB RAM/512GB SSD 15.6...  49,990   \n",
       "15  Lenovo Ideapad 3 AMD Ryzen 5 5500U 15.6\" (39.6...  46,018   \n",
       "16  Mi Notebook Pro QHD+ IPS Anti-Glare Display In...  56,490   \n",
       "17  Mi NoteBook Ultra 3.2K Resolution Display Inte...  59,499   \n",
       "18  Mi Notebook Pro QHD+ IPS Anti-Glare Display In...  57,990   \n",
       "19  ASUS TUF Gaming F15 (2021), 15.6\" (39.62 cms) ...  58,490   \n",
       "20  Acer Aspire Intel Core i5 11th Gen - (16 GB/ 5...  53,990   \n",
       "21  Dell Inspiron 15-inch Laptop | Windows 11 and ...  58,900   \n",
       "\n",
       "                rating                                              links  \n",
       "0   4.2 out of 5 stars  https://www.amazon.in/sspa/click?ie=UTF8&spc=M...  \n",
       "1   3.5 out of 5 stars  https://www.amazon.in/sspa/click?ie=UTF8&spc=M...  \n",
       "2   4.1 out of 5 stars  https://www.amazon.in/Lenovo-IdeaPad-39-62cm-B...  \n",
       "3   4.1 out of 5 stars  https://www.amazon.in/Lenovo-IdeaPad-39-62cm-W...  \n",
       "4   3.9 out of 5 stars  https://www.amazon.in/Acer-Extensa-Lightweight...  \n",
       "5   4.3 out of 5 stars  https://www.amazon.in/HP-Micro-Edge-Graphics-K...  \n",
       "6   4.1 out of 5 stars  https://www.amazon.in/Lenovo-IdeaPad-Warranty-...  \n",
       "7   3.7 out of 5 stars  https://www.amazon.in/X415EA-EB502WS-I5-1135G7...  \n",
       "8   3.9 out of 5 stars  https://www.amazon.in/Lenovo-IdeaPad-Detachabl...  \n",
       "9   4.1 out of 5 stars  https://www.amazon.in/ASUS-VivoBook-i5-1135G7-...  \n",
       "10  3.9 out of 5 stars  https://www.amazon.in/sspa/click?ie=UTF8&spc=M...  \n",
       "11  4.2 out of 5 stars  https://www.amazon.in/sspa/click?ie=UTF8&spc=M...  \n",
       "12  4.4 out of 5 stars  https://www.amazon.in/HP-RX5500M-Graphics-Flic...  \n",
       "13  3.1 out of 5 stars  https://www.amazon.in/Acer-Processor-Display-W...  \n",
       "14  4.4 out of 5 stars  https://www.amazon.in/HP-15-6-inches-Micro-Edg...  \n",
       "15  4.2 out of 5 stars  https://www.amazon.in/Lenovo-Ideapad-Keyboard-...  \n",
       "16  4.3 out of 5 stars  https://www.amazon.in/Notebook-Display-i5-1130...  \n",
       "17  4.2 out of 5 stars  https://www.amazon.in/Notebook-Resolution-i5-1...  \n",
       "18  4.3 out of 5 stars  https://www.amazon.in/Notebook-Display-i5-1130...  \n",
       "19  4.3 out of 5 stars  https://www.amazon.in/ASUS-i5-10300H-Graphics-...  \n",
       "20  4.1 out of 5 stars  https://www.amazon.in/sspa/click?ie=UTF8&spc=M...  \n",
       "21  3.3 out of 5 stars  https://www.amazon.in/sspa/click?ie=UTF8&spc=M...  "
      ]
     },
     "execution_count": 24,
     "metadata": {},
     "output_type": "execute_result"
    }
   ],
   "source": [
    "df"
   ]
  },
  {
   "cell_type": "code",
   "execution_count": 25,
   "id": "21b49a90",
   "metadata": {},
   "outputs": [
    {
     "name": "stderr",
     "output_type": "stream",
     "text": [
      "/var/folders/vl/xpp_bl792hb66bvcgm1qrc640000gn/T/ipykernel_77471/2046267722.py:20: FutureWarning: The frame.append method is deprecated and will be removed from pandas in a future version. Use pandas.concat instead.\n",
      "  df=df.append(df1,ignore_index=\"True\")\n"
     ]
    }
   ],
   "source": [
    "for i in range(2,20):\n",
    "    headers={\"User-Agent\":\"Mozilla/5.0 (Macintosh; Intel Mac OS X 10_14_5)AppleWebKit/605.1.15 (KHTML, like Gecko)Version/12.1.1 Safari/605.1.15\"}\n",
    "    url=\"https://www.amazon.in/s?k=laptops+under+60000&page=2&qid=1673482630&sprefix=laptops+%2Caps%2C227&ref=sr_pg_{}\".format(i)\n",
    "    res=requests.get(url,headers=headers)\n",
    "    soup=BeautifulSoup(res.text,\"lxml\")\n",
    "    items=soup.find_all(\"div\",{\"class\":[\"s-card-container\"]})\n",
    "    laptop_name=[]\n",
    "    rating=[]\n",
    "    price=[]\n",
    "    link=[]\n",
    "    for i in items:\n",
    "        laptop_name.append(i.find(\"h2\").text)\n",
    "        rating.append(i.find(\"i\",{\"class\":\"a-icon\"}).text)\n",
    "        price.append(i.find(\"span\",{\"class\":\"a-price-whole\"}).text)  \n",
    "        link.append(o+i.find(\"a\")[\"href\"])\n",
    "        \n",
    "    laptops={\"name\":laptop_name,\"price\":price,\"rating\":rating,\"links\":link}\n",
    "\n",
    "    df1=pd.DataFrame(laptops)\n",
    "    df=df.append(df1,ignore_index=\"True\")\n",
    "    "
   ]
  },
  {
   "cell_type": "code",
   "execution_count": 32,
   "id": "4b068a0e",
   "metadata": {},
   "outputs": [],
   "source": [
    "pd.set_option('display.max_colwidth', None)"
   ]
  },
  {
   "cell_type": "code",
   "execution_count": 34,
   "id": "c7552f57",
   "metadata": {},
   "outputs": [
    {
     "data": {
      "text/html": [
       "<div>\n",
       "<style scoped>\n",
       "    .dataframe tbody tr th:only-of-type {\n",
       "        vertical-align: middle;\n",
       "    }\n",
       "\n",
       "    .dataframe tbody tr th {\n",
       "        vertical-align: top;\n",
       "    }\n",
       "\n",
       "    .dataframe thead th {\n",
       "        text-align: right;\n",
       "    }\n",
       "</style>\n",
       "<table border=\"1\" class=\"dataframe\">\n",
       "  <thead>\n",
       "    <tr style=\"text-align: right;\">\n",
       "      <th></th>\n",
       "      <th>name</th>\n",
       "      <th>price</th>\n",
       "      <th>rating</th>\n",
       "      <th>links</th>\n",
       "    </tr>\n",
       "  </thead>\n",
       "  <tbody>\n",
       "    <tr>\n",
       "      <th>0</th>\n",
       "      <td>HP 15s, 12th Gen Intel Core i5 8GB RAM/512GB SSD 15.6-inch(39.6 cm) Micro-Edge Anti-Glare FHD Laptop/Intel Iris Xe Graphics/Alexa/Dual Speakers/Win 11/MSO 2021/1.41 Kg, 15s- fq5111TU</td>\n",
       "      <td>56,999</td>\n",
       "      <td>4.2 out of 5 stars</td>\n",
       "      <td>https://www.amazon.in/sspa/click?ie=UTF8&amp;spc=MTo2MTI0NTM5ODc0MjkwNjU5OjE2NzM1MjE0MDU6c3BfYXRmX25leHQ6MjAwNjU5MzE5MzY0OTg6OjA6Og&amp;url=%2FHP-Micro-Edge-Anti-Glare-15s-fq5111TU%2Fdp%2FB0B6F5V23N%2Fref%3Dsr_1_17_sspa%3Fkeywords%3Dlaptops%2Bunder%2B60000%26qid%3D1673521405%26sprefix%3Dlaptops%2B%252Caps%252C227%26sr%3D8-17-spons%26sp_csd%3Dd2lkZ2V0TmFtZT1zcF9hdGZfbmV4dA%26psc%3D1</td>\n",
       "    </tr>\n",
       "    <tr>\n",
       "      <th>1</th>\n",
       "      <td>Acer Aspire 3 Intel Core i5 12th Generation (8GB/512 GB SSD/Windows 11 Home/MS Office/1.7 Kg/Silver) A315-59 with 15.6-inch (39.6 cms) Full HD Laptop</td>\n",
       "      <td>55,990</td>\n",
       "      <td>3.5 out of 5 stars</td>\n",
       "      <td>https://www.amazon.in/sspa/click?ie=UTF8&amp;spc=MTo2MTI0NTM5ODc0MjkwNjU5OjE2NzM1MjE0MDU6c3BfYXRmX25leHQ6MjAwODI2NTEzMTM3OTg6OjA6Og&amp;url=%2FAcer-Generation-Windows-A315-59-15-6-inch%2Fdp%2FB0B42RSQWR%2Fref%3Dsr_1_18_sspa%3Fkeywords%3Dlaptops%2Bunder%2B60000%26qid%3D1673521405%26sprefix%3Dlaptops%2B%252Caps%252C227%26sr%3D8-18-spons%26sp_csd%3Dd2lkZ2V0TmFtZT1zcF9hdGZfbmV4dA%26psc%3D1</td>\n",
       "    </tr>\n",
       "    <tr>\n",
       "      <th>2</th>\n",
       "      <td>Lenovo IdeaPad Gaming 3 Intel Core i5 11th Gen 15.6\" (39.62cm) FHD IPS Gaming Laptop (8GB/512GB SSD/4GB NVIDIA GTX 1650/120Hz/Win 11/Backlit/3months Game Pass/Shadow Black/2.25Kg), 82K10198IN</td>\n",
       "      <td>54,008</td>\n",
       "      <td>4.1 out of 5 stars</td>\n",
       "      <td>https://www.amazon.in/Lenovo-IdeaPad-39-62cm-Backlit-82K10198IN/dp/B0B4JQ9X9C/ref=sr_1_19?keywords=laptops+under+60000&amp;qid=1673521405&amp;sprefix=laptops+%2Caps%2C227&amp;sr=8-19</td>\n",
       "    </tr>\n",
       "    <tr>\n",
       "      <th>3</th>\n",
       "      <td>Lenovo IdeaPad Slim 3 Intel Core i5 12th Gen 15.6\" (39.62cm) FHD Thin &amp; Light Laptop (8GB/512GB SSD/Windows 11/Office 2021/Backlit/2Yr Warranty/3months Game Pass/Arctic Grey/1.63Kg), 82RK0062IN</td>\n",
       "      <td>55,017</td>\n",
       "      <td>4.1 out of 5 stars</td>\n",
       "      <td>https://www.amazon.in/Lenovo-IdeaPad-39-62cm-Warranty-82RK0062IN/dp/B0B4KD52ZC/ref=sr_1_20?keywords=laptops+under+60000&amp;qid=1673521405&amp;sprefix=laptops+%2Caps%2C227&amp;sr=8-20</td>\n",
       "    </tr>\n",
       "    <tr>\n",
       "      <th>4</th>\n",
       "      <td>Acer Extensa 15 Lightweight Laptop Intel Core i3 11th Gen Processor - (8 GB/ 512 GB SSD/ Windows 11 Home/ 1.7kg/ Black/ Elevated Hinge Design) EX215-54 with 39.6 cm (15.6 inches) FHD Display</td>\n",
       "      <td>34,700</td>\n",
       "      <td>3.9 out of 5 stars</td>\n",
       "      <td>https://www.amazon.in/Acer-Extensa-Lightweight-Laptop-Processor/dp/B0B5ZN13GV/ref=sr_1_21?keywords=laptops+under+60000&amp;qid=1673521405&amp;sprefix=laptops+%2Caps%2C227&amp;sr=8-21</td>\n",
       "    </tr>\n",
       "    <tr>\n",
       "      <th>...</th>\n",
       "      <td>...</td>\n",
       "      <td>...</td>\n",
       "      <td>...</td>\n",
       "      <td>...</td>\n",
       "    </tr>\n",
       "    <tr>\n",
       "      <th>528</th>\n",
       "      <td>Mi NoteBook Ultra 3.2K Resolution Display Intel Core i5-11300H 11th Gen 15.6 Inch Thin Light Laptop (8GB/512GB SSD/Iris Xe Graphics/Windows 11 Home/Office 21/Backlit Keyboard/Fingerprint Sensor/1.7Kg)</td>\n",
       "      <td>59,499</td>\n",
       "      <td>4.2 out of 5 stars</td>\n",
       "      <td>https://www.amazon.in/Notebook-Resolution-i5-11300H-15-6-inch-Fingerprint/dp/B098XLXDRS/ref=sr_1_34?keywords=laptops+under+60000&amp;qid=1673521430&amp;sprefix=laptops+%2Caps%2C227&amp;sr=8-34</td>\n",
       "    </tr>\n",
       "    <tr>\n",
       "      <th>529</th>\n",
       "      <td>Mi Notebook Pro QHD+ IPS Anti-Glare Display Intel Core I5-11300H 11th Gen 14 Inch Thin &amp; Light Laptop (16GB/512GB SSD/Iris Xe Graphics/Windows 11 Home/MS Office 21/Backlit Keyboard/FP Sensor/1.4 Kg)</td>\n",
       "      <td>57,990</td>\n",
       "      <td>4.3 out of 5 stars</td>\n",
       "      <td>https://www.amazon.in/Notebook-Display-i5-11300H-Graphics-Fingerprint/dp/B098XL8VSM/ref=sr_1_35?keywords=laptops+under+60000&amp;qid=1673521430&amp;sprefix=laptops+%2Caps%2C227&amp;sr=8-35</td>\n",
       "    </tr>\n",
       "    <tr>\n",
       "      <th>530</th>\n",
       "      <td>ASUS TUF Gaming F15 (2021), 15.6\" (39.62 cms) FHD 144Hz, Intel Core i5-10300H 10th Gen, GTX 1650 4GB Graphics, Gaming Laptop (8GB RAM/512GB NVMe SSD/Windows 11/Black/2.30 Kg), FX506LH-HN258W</td>\n",
       "      <td>58,490</td>\n",
       "      <td>4.3 out of 5 stars</td>\n",
       "      <td>https://www.amazon.in/ASUS-i5-10300H-Graphics-Windows-FX506LH-HN258W/dp/B09RMTMBSM/ref=sr_1_36?keywords=laptops+under+60000&amp;qid=1673521430&amp;sprefix=laptops+%2Caps%2C227&amp;sr=8-36</td>\n",
       "    </tr>\n",
       "    <tr>\n",
       "      <th>531</th>\n",
       "      <td>Acer Aspire Intel Core i5 11th Gen - (16 GB/ 512 GB SSD/Widows 11 Home/ MS Office/Silver/ 1.7 Kgs) A315-58 with 39.6 cm (15.6 inches) FHD Display Laptop</td>\n",
       "      <td>53,990</td>\n",
       "      <td>4.1 out of 5 stars</td>\n",
       "      <td>https://www.amazon.in/sspa/click?ie=UTF8&amp;spc=MToxMDY4NTc4NzEwNjU1NDY4OjE2NzM1MjE0MzA6c3BfYnRmOjIwMDc0MTE5NzIzMzk4OjowOjo&amp;url=%2FAcer-Aspire-Intel-Core-11th%2Fdp%2FB0B5GDPSXS%2Fref%3Dsr_1_37_sspa%3Fkeywords%3Dlaptops%2Bunder%2B60000%26qid%3D1673521430%26sprefix%3Dlaptops%2B%252Caps%252C227%26sr%3D8-37-spons%26sp_csd%3Dd2lkZ2V0TmFtZT1zcF9idGY%26psc%3D1</td>\n",
       "    </tr>\n",
       "    <tr>\n",
       "      <th>532</th>\n",
       "      <td>Dell Inspiron 15-inch Laptop | Windows 11 and MS Office 2021 | Intel Core i5-1235U | 8GB RAM and 512GB SSD | FHD WVA AG 120Hz 250 Nits | 3520 - Black (D560871WIN9B)</td>\n",
       "      <td>58,900</td>\n",
       "      <td>3.3 out of 5 stars</td>\n",
       "      <td>https://www.amazon.in/sspa/click?ie=UTF8&amp;spc=MToxMDY4NTc4NzEwNjU1NDY4OjE2NzM1MjE0MzA6c3BfYnRmOjIwMTAxMTM1MjQ5Mzk4OjowOjo&amp;url=%2FDell-Inspiron-i5-1235U-39-62Cms-D560871WIN9B%2Fdp%2FB0BH4SCYQ3%2Fref%3Dsr_1_38_sspa%3Fkeywords%3Dlaptops%2Bunder%2B60000%26qid%3D1673521430%26sprefix%3Dlaptops%2B%252Caps%252C227%26sr%3D8-38-spons%26sp_csd%3Dd2lkZ2V0TmFtZT1zcF9idGY%26psc%3D1</td>\n",
       "    </tr>\n",
       "  </tbody>\n",
       "</table>\n",
       "<p>533 rows × 4 columns</p>\n",
       "</div>"
      ],
      "text/plain": [
       "                                                                                                                                                                                                           name  \\\n",
       "0                      HP 15s, 12th Gen Intel Core i5 8GB RAM/512GB SSD 15.6-inch(39.6 cm) Micro-Edge Anti-Glare FHD Laptop/Intel Iris Xe Graphics/Alexa/Dual Speakers/Win 11/MSO 2021/1.41 Kg, 15s- fq5111TU     \n",
       "1                                                       Acer Aspire 3 Intel Core i5 12th Generation (8GB/512 GB SSD/Windows 11 Home/MS Office/1.7 Kg/Silver) A315-59 with 15.6-inch (39.6 cms) Full HD Laptop     \n",
       "2             Lenovo IdeaPad Gaming 3 Intel Core i5 11th Gen 15.6\" (39.62cm) FHD IPS Gaming Laptop (8GB/512GB SSD/4GB NVIDIA GTX 1650/120Hz/Win 11/Backlit/3months Game Pass/Shadow Black/2.25Kg), 82K10198IN     \n",
       "3           Lenovo IdeaPad Slim 3 Intel Core i5 12th Gen 15.6\" (39.62cm) FHD Thin & Light Laptop (8GB/512GB SSD/Windows 11/Office 2021/Backlit/2Yr Warranty/3months Game Pass/Arctic Grey/1.63Kg), 82RK0062IN     \n",
       "4              Acer Extensa 15 Lightweight Laptop Intel Core i3 11th Gen Processor - (8 GB/ 512 GB SSD/ Windows 11 Home/ 1.7kg/ Black/ Elevated Hinge Design) EX215-54 with 39.6 cm (15.6 inches) FHD Display     \n",
       "..                                                                                                                                                                                                          ...   \n",
       "528  Mi NoteBook Ultra 3.2K Resolution Display Intel Core i5-11300H 11th Gen 15.6 Inch Thin Light Laptop (8GB/512GB SSD/Iris Xe Graphics/Windows 11 Home/Office 21/Backlit Keyboard/Fingerprint Sensor/1.7Kg)     \n",
       "529    Mi Notebook Pro QHD+ IPS Anti-Glare Display Intel Core I5-11300H 11th Gen 14 Inch Thin & Light Laptop (16GB/512GB SSD/Iris Xe Graphics/Windows 11 Home/MS Office 21/Backlit Keyboard/FP Sensor/1.4 Kg)     \n",
       "530            ASUS TUF Gaming F15 (2021), 15.6\" (39.62 cms) FHD 144Hz, Intel Core i5-10300H 10th Gen, GTX 1650 4GB Graphics, Gaming Laptop (8GB RAM/512GB NVMe SSD/Windows 11/Black/2.30 Kg), FX506LH-HN258W     \n",
       "531                                                  Acer Aspire Intel Core i5 11th Gen - (16 GB/ 512 GB SSD/Widows 11 Home/ MS Office/Silver/ 1.7 Kgs) A315-58 with 39.6 cm (15.6 inches) FHD Display Laptop     \n",
       "532                                      Dell Inspiron 15-inch Laptop | Windows 11 and MS Office 2021 | Intel Core i5-1235U | 8GB RAM and 512GB SSD | FHD WVA AG 120Hz 250 Nits | 3520 - Black (D560871WIN9B)     \n",
       "\n",
       "      price              rating  \\\n",
       "0    56,999  4.2 out of 5 stars   \n",
       "1    55,990  3.5 out of 5 stars   \n",
       "2    54,008  4.1 out of 5 stars   \n",
       "3    55,017  4.1 out of 5 stars   \n",
       "4    34,700  3.9 out of 5 stars   \n",
       "..      ...                 ...   \n",
       "528  59,499  4.2 out of 5 stars   \n",
       "529  57,990  4.3 out of 5 stars   \n",
       "530  58,490  4.3 out of 5 stars   \n",
       "531  53,990  4.1 out of 5 stars   \n",
       "532  58,900  3.3 out of 5 stars   \n",
       "\n",
       "                                                                                                                                                                                                                                                                                                                                                                                            links  \n",
       "0        https://www.amazon.in/sspa/click?ie=UTF8&spc=MTo2MTI0NTM5ODc0MjkwNjU5OjE2NzM1MjE0MDU6c3BfYXRmX25leHQ6MjAwNjU5MzE5MzY0OTg6OjA6Og&url=%2FHP-Micro-Edge-Anti-Glare-15s-fq5111TU%2Fdp%2FB0B6F5V23N%2Fref%3Dsr_1_17_sspa%3Fkeywords%3Dlaptops%2Bunder%2B60000%26qid%3D1673521405%26sprefix%3Dlaptops%2B%252Caps%252C227%26sr%3D8-17-spons%26sp_csd%3Dd2lkZ2V0TmFtZT1zcF9hdGZfbmV4dA%26psc%3D1  \n",
       "1    https://www.amazon.in/sspa/click?ie=UTF8&spc=MTo2MTI0NTM5ODc0MjkwNjU5OjE2NzM1MjE0MDU6c3BfYXRmX25leHQ6MjAwODI2NTEzMTM3OTg6OjA6Og&url=%2FAcer-Generation-Windows-A315-59-15-6-inch%2Fdp%2FB0B42RSQWR%2Fref%3Dsr_1_18_sspa%3Fkeywords%3Dlaptops%2Bunder%2B60000%26qid%3D1673521405%26sprefix%3Dlaptops%2B%252Caps%252C227%26sr%3D8-18-spons%26sp_csd%3Dd2lkZ2V0TmFtZT1zcF9hdGZfbmV4dA%26psc%3D1  \n",
       "2                                                                                                                                                                                                                      https://www.amazon.in/Lenovo-IdeaPad-39-62cm-Backlit-82K10198IN/dp/B0B4JQ9X9C/ref=sr_1_19?keywords=laptops+under+60000&qid=1673521405&sprefix=laptops+%2Caps%2C227&sr=8-19  \n",
       "3                                                                                                                                                                                                                     https://www.amazon.in/Lenovo-IdeaPad-39-62cm-Warranty-82RK0062IN/dp/B0B4KD52ZC/ref=sr_1_20?keywords=laptops+under+60000&qid=1673521405&sprefix=laptops+%2Caps%2C227&sr=8-20  \n",
       "4                                                                                                                                                                                                                      https://www.amazon.in/Acer-Extensa-Lightweight-Laptop-Processor/dp/B0B5ZN13GV/ref=sr_1_21?keywords=laptops+under+60000&qid=1673521405&sprefix=laptops+%2Caps%2C227&sr=8-21  \n",
       "..                                                                                                                                                                                                                                                                                                                                                                                            ...  \n",
       "528                                                                                                                                                                                                          https://www.amazon.in/Notebook-Resolution-i5-11300H-15-6-inch-Fingerprint/dp/B098XLXDRS/ref=sr_1_34?keywords=laptops+under+60000&qid=1673521430&sprefix=laptops+%2Caps%2C227&sr=8-34  \n",
       "529                                                                                                                                                                                                              https://www.amazon.in/Notebook-Display-i5-11300H-Graphics-Fingerprint/dp/B098XL8VSM/ref=sr_1_35?keywords=laptops+under+60000&qid=1673521430&sprefix=laptops+%2Caps%2C227&sr=8-35  \n",
       "530                                                                                                                                                                                                               https://www.amazon.in/ASUS-i5-10300H-Graphics-Windows-FX506LH-HN258W/dp/B09RMTMBSM/ref=sr_1_36?keywords=laptops+under+60000&qid=1673521430&sprefix=laptops+%2Caps%2C227&sr=8-36  \n",
       "531                              https://www.amazon.in/sspa/click?ie=UTF8&spc=MToxMDY4NTc4NzEwNjU1NDY4OjE2NzM1MjE0MzA6c3BfYnRmOjIwMDc0MTE5NzIzMzk4OjowOjo&url=%2FAcer-Aspire-Intel-Core-11th%2Fdp%2FB0B5GDPSXS%2Fref%3Dsr_1_37_sspa%3Fkeywords%3Dlaptops%2Bunder%2B60000%26qid%3D1673521430%26sprefix%3Dlaptops%2B%252Caps%252C227%26sr%3D8-37-spons%26sp_csd%3Dd2lkZ2V0TmFtZT1zcF9idGY%26psc%3D1  \n",
       "532             https://www.amazon.in/sspa/click?ie=UTF8&spc=MToxMDY4NTc4NzEwNjU1NDY4OjE2NzM1MjE0MzA6c3BfYnRmOjIwMTAxMTM1MjQ5Mzk4OjowOjo&url=%2FDell-Inspiron-i5-1235U-39-62Cms-D560871WIN9B%2Fdp%2FB0BH4SCYQ3%2Fref%3Dsr_1_38_sspa%3Fkeywords%3Dlaptops%2Bunder%2B60000%26qid%3D1673521430%26sprefix%3Dlaptops%2B%252Caps%252C227%26sr%3D8-38-spons%26sp_csd%3Dd2lkZ2V0TmFtZT1zcF9idGY%26psc%3D1  \n",
       "\n",
       "[533 rows x 4 columns]"
      ]
     },
     "execution_count": 34,
     "metadata": {},
     "output_type": "execute_result"
    }
   ],
   "source": [
    "df"
   ]
  },
  {
   "cell_type": "code",
   "execution_count": 36,
   "id": "ffc00c33",
   "metadata": {},
   "outputs": [],
   "source": [
    "df.to_csv(\"amazon_laptops.csv\")"
   ]
  },
  {
   "cell_type": "code",
   "execution_count": null,
   "id": "0c5a9e99",
   "metadata": {},
   "outputs": [],
   "source": []
  }
 ],
 "metadata": {
  "kernelspec": {
   "display_name": "Python 3 (ipykernel)",
   "language": "python",
   "name": "python3"
  },
  "language_info": {
   "codemirror_mode": {
    "name": "ipython",
    "version": 3
   },
   "file_extension": ".py",
   "mimetype": "text/x-python",
   "name": "python",
   "nbconvert_exporter": "python",
   "pygments_lexer": "ipython3",
   "version": "3.9.12"
  }
 },
 "nbformat": 4,
 "nbformat_minor": 5
}
